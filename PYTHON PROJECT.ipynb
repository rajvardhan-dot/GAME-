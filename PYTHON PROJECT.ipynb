{
  "nbformat": 4,
  "nbformat_minor": 0,
  "metadata": {
    "colab": {
      "name": "Untitled7.ipynb",
      "provenance": [],
      "collapsed_sections": []
    },
    "kernelspec": {
      "name": "python3",
      "display_name": "Python 3"
    },
    "language_info": {
      "name": "python"
    }
  },
  "cells": [
    {
      "cell_type": "code",
      "metadata": {
        "colab": {
          "base_uri": "https://localhost:8080/"
        },
        "id": "WvanHdwWrj_a",
        "outputId": "dad3b040-a30e-44c5-b792-746f40d0308b"
      },
      "source": [
        "import random\n",
        "choices = [\"Rock\", \"Paper\", \"Scissors\"]\n",
        "computer = random.choice(choices)\n",
        "player = False\n",
        "cpu_score = 0\n",
        "player_score = 0\n",
        "while True:\n",
        "    player = input(\"Rock, Paper or  Scissors?\").capitalize()\n",
        "    ## Conditions of Rock,Paper and Scissors\n",
        "    if player == computer:\n",
        "        print(\"Tie!\")\n",
        "    elif player == \"Rock\":\n",
        "        if computer == \"Paper\":\n",
        "            print(\"You lose!\", computer, \"covers\", player)\n",
        "            cpu_score+=1\n",
        "        else:\n",
        "            print(\"You win!\", player, \"smashes\", computer)\n",
        "            player_score+=1\n",
        "    elif player == \"Paper\":\n",
        "        if computer == \"Scissors\":\n",
        "            print(\"You lose!\", computer, \"cut\", player)\n",
        "            cpu_score+=1\n",
        "        else:\n",
        "            print(\"You win!\", player, \"covers\", computer)\n",
        "            player_score+=1\n",
        "    elif player == \"Scissors\":\n",
        "        if computer == \"Rock\":\n",
        "            print(\"You lose...\", computer, \"smashes\", player)\n",
        "            cpu_score+=1\n",
        "        else:\n",
        "            print(\"You win!\", player, \"cut\", computer)\n",
        "            player_score+=1\n",
        "    elif player=='End':\n",
        "        print(\"Final Scores:\")\n",
        "        print(f\"CPU:{cpu_score}\")\n",
        "        print(f\"Plaer:{player_score}\")\n",
        "        break"
      ],
      "execution_count": 1,
      "outputs": [
        {
          "output_type": "stream",
          "name": "stdout",
          "text": [
            "Rock, Paper or  Scissors?Rock\n",
            "You win! Rock smashes Scissors\n",
            "Rock, Paper or  Scissors?Paper\n",
            "You lose! Scissors cut Paper\n",
            "Rock, Paper or  Scissors?Scissors\n",
            "Tie!\n",
            "Rock, Paper or  Scissors?Rock\n",
            "You win! Rock smashes Scissors\n",
            "Rock, Paper or  Scissors?Rock\n",
            "You win! Rock smashes Scissors\n",
            "Rock, Paper or  Scissors?Rock\n",
            "You win! Rock smashes Scissors\n",
            "Rock, Paper or  Scissors?Rock\n",
            "You win! Rock smashes Scissors\n",
            "Rock, Paper or  Scissors?Rock\n",
            "You win! Rock smashes Scissors\n",
            "Rock, Paper or  Scissors?Rock\n",
            "You win! Rock smashes Scissors\n",
            "Rock, Paper or  Scissors?Paper\n",
            "You lose! Scissors cut Paper\n",
            "Rock, Paper or  Scissors?End\n",
            "Final Scores:\n",
            "CPU:2\n",
            "Plaer:7\n"
          ]
        }
      ]
    },
    {
      "cell_type": "code",
      "metadata": {
        "id": "vxLqzjDermFv"
      },
      "source": [
        ""
      ],
      "execution_count": 1,
      "outputs": []
    }
  ]
}